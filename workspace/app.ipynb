{
 "cells": [
  {
   "cell_type": "markdown",
   "id": "42b7c0fa2993b52f",
   "metadata": {},
   "source": [
    "# Laboratorio 8 - Deep Q-Network\n",
    "Francisco Castillo - 21562\n",
    "Diego Lemus - 21"
   ]
  },
  {
   "cell_type": "code",
   "id": "434cdaa7d4f58fe",
   "metadata": {
    "ExecuteTime": {
     "end_time": "2025-09-29T00:20:05.397226Z",
     "start_time": "2025-09-29T00:20:05.388193Z"
    }
   },
   "source": [
    "import random\n",
    "import numpy as np\n",
    "import torch\n",
    "\n",
    "SEED = 21562\n",
    "\n",
    "random.seed(SEED)\n",
    "np.random.seed(SEED)\n",
    "torch.manual_seed(SEED)\n",
    "if torch.cuda.is_available():\n",
    "    torch.cuda.manual_seed(SEED)"
   ],
   "outputs": [],
   "execution_count": 23
  },
  {
   "cell_type": "code",
   "id": "initial_id",
   "metadata": {
    "ExecuteTime": {
     "end_time": "2025-09-29T00:20:05.416721Z",
     "start_time": "2025-09-29T00:20:05.408551Z"
    }
   },
   "source": [
    "import gymnasium as gym\n",
    "\n",
    "env = gym.make('CartPole-v1')\n",
    "env.reset(seed=SEED)\n",
    "env.action_space.seed(SEED)\n",
    "print(env)"
   ],
   "outputs": [
    {
     "name": "stdout",
     "output_type": "stream",
     "text": [
      "<TimeLimit<OrderEnforcing<PassiveEnvChecker<CartPoleEnv<CartPole-v1>>>>>\n"
     ]
    }
   ],
   "execution_count": 24
  },
  {
   "cell_type": "code",
   "id": "d167df70817df143",
   "metadata": {
    "ExecuteTime": {
     "end_time": "2025-09-29T00:20:05.473242Z",
     "start_time": "2025-09-29T00:20:05.466415Z"
    }
   },
   "source": [
    "import torch.nn as nn\n",
    "\n",
    "class QNetwork(nn.Module):\n",
    "    def __init__(self, observation_space, action_space, hidden_size=128):\n",
    "        super().__init__()\n",
    "        input_size = observation_space.shape[0]\n",
    "        output_size = action_space.n\n",
    "\n",
    "        self.network = nn.Sequential(\n",
    "            nn.Linear(input_size, hidden_size),\n",
    "            nn.ReLU(),\n",
    "            nn.Linear(hidden_size, hidden_size),\n",
    "            nn.ReLU(),\n",
    "            nn.Linear(hidden_size, output_size)\n",
    "        )\n",
    "\n",
    "    def forward(self, x):\n",
    "        return self.network(x)\n"
   ],
   "outputs": [],
   "execution_count": 25
  },
  {
   "cell_type": "code",
   "id": "53e879f22e407838",
   "metadata": {
    "ExecuteTime": {
     "end_time": "2025-09-29T00:20:05.512141Z",
     "start_time": "2025-09-29T00:20:05.505100Z"
    }
   },
   "source": [
    "import random\n",
    "from collections import deque\n",
    "\n",
    "class ReplayBuffer:\n",
    "    def __init__(self, capacity):\n",
    "        self.buffer = deque(maxlen=capacity)\n",
    "\n",
    "    def add(self, state, action, reward, next_state, done):\n",
    "        transition = (state, action, reward, next_state, done)\n",
    "        self.buffer.append(transition)\n",
    "\n",
    "    def sample(self, batch_size):\n",
    "        if len(self.buffer) < batch_size:\n",
    "            return []\n",
    "        batch = random.sample(self.buffer, batch_size)\n",
    "        states, actions, rewards, next_states, dones = zip(*batch)\n",
    "        return states, actions, rewards, next_states, dones\n"
   ],
   "outputs": [],
   "execution_count": 26
  },
  {
   "cell_type": "code",
   "id": "77b40fa665f9d5b4",
   "metadata": {
    "ExecuteTime": {
     "end_time": "2025-09-29T00:20:05.558078Z",
     "start_time": "2025-09-29T00:20:05.544256Z"
    }
   },
   "source": [
    "import torch.optim as optim\n",
    "import numpy as np\n",
    "\n",
    "class DQNAgent:\n",
    "    def __init__(self, observation_space, action_space, gamma=0.99, epsilon_start=1.0, epsilon_end=0.01, epsilon_decay=1000, lr=0.001, hidden_size=128, device='cpu'):\n",
    "        self.action_space_n = action_space.n\n",
    "        self.gamma = gamma\n",
    "        self.epsilon_start = epsilon_start\n",
    "        self.epsilon_end = epsilon_end\n",
    "        self.epsilon_decay = epsilon_decay\n",
    "        self.device = device\n",
    "\n",
    "        self.q_network = QNetwork(observation_space, action_space, hidden_size).to(device)\n",
    "        self.target_network = QNetwork(observation_space, action_space, hidden_size).to(device)\n",
    "        self.target_network.load_state_dict(self.q_network.state_dict())\n",
    "        self.target_network.eval()\n",
    "\n",
    "        self.optimizer = optim.Adam(self.q_network.parameters(), lr=lr)\n",
    "        self.criterion = nn.MSELoss()\n",
    "\n",
    "        self.steps_done = 0\n",
    "\n",
    "    def select_action(self, state):\n",
    "        epsilon = self.epsilon_end + (self.epsilon_start - self.epsilon_end) * \\\n",
    "                  np.exp(-1. * self.steps_done / self.epsilon_decay)\n",
    "        self.steps_done += 1\n",
    "\n",
    "        if random.random() > epsilon:\n",
    "            with torch.no_grad():\n",
    "                state_tensor = torch.FloatTensor(state).unsqueeze(0).to(self.device)\n",
    "                q_values = self.q_network(state_tensor)\n",
    "                action = q_values.argmax().item()\n",
    "        else:\n",
    "            action = random.randrange(self.action_space_n)\n",
    "        return action\n",
    "\n",
    "    def train(self, batch):\n",
    "        if not batch:\n",
    "            return\n",
    "\n",
    "        states, actions, rewards, next_states, dones = batch\n",
    "\n",
    "        states_tensor = torch.FloatTensor(states).to(self.device)\n",
    "        actions_tensor = torch.LongTensor(actions).unsqueeze(1).to(self.device)\n",
    "        rewards_tensor = torch.FloatTensor(rewards).unsqueeze(1).to(self.device)\n",
    "        next_states_tensor = torch.FloatTensor(next_states).to(self.device)\n",
    "        dones_tensor = torch.FloatTensor(dones).unsqueeze(1).to(self.device)\n",
    "\n",
    "        current_q_values = self.q_network(states_tensor).gather(1, actions_tensor)\n",
    "\n",
    "        with torch.no_grad():\n",
    "            next_q_values = self.target_network(next_states_tensor).max(1)[0].unsqueeze(1)\n",
    "            target_q_values = rewards_tensor + self.gamma * next_q_values * (1 - dones_tensor)\n",
    "\n",
    "        loss = self.criterion(current_q_values, target_q_values)\n",
    "\n",
    "        self.optimizer.zero_grad()\n",
    "        loss.backward()\n",
    "        self.optimizer.step()\n",
    "\n",
    "        return loss.item()\n",
    "\n",
    "\n",
    "    def update_target_network(self):\n",
    "        self.target_network.load_state_dict(self.q_network.state_dict())"
   ],
   "outputs": [],
   "execution_count": 27
  },
  {
   "cell_type": "code",
   "id": "ca34761c8a710e39",
   "metadata": {
    "ExecuteTime": {
     "end_time": "2025-09-29T00:21:24.590032Z",
     "start_time": "2025-09-29T00:20:05.591248Z"
    }
   },
   "source": [
    "num_episodes = 1000\n",
    "batch_size = 64\n",
    "target_update_freq = 10\n",
    "train_freq = 4\n",
    "replay_buffer_capacity = 10000\n",
    "\n",
    "agent = DQNAgent(env.observation_space, env.action_space)\n",
    "replay_buffer = ReplayBuffer(replay_buffer_capacity)\n",
    "\n",
    "episode_rewards = []\n",
    "\n",
    "for episode in range(num_episodes):\n",
    "    state, info = env.reset()\n",
    "    total_reward = 0\n",
    "    done = False\n",
    "    step = 0\n",
    "\n",
    "    while not done:\n",
    "        action = agent.select_action(state)\n",
    "        next_state, reward, terminated, truncated, info = env.step(action)\n",
    "        done = terminated or truncated\n",
    "\n",
    "        replay_buffer.add(state, action, reward, next_state, done)\n",
    "\n",
    "        state = next_state\n",
    "        total_reward += reward\n",
    "        step += 1\n",
    "\n",
    "        if len(replay_buffer.buffer) > batch_size and step % train_freq == 0:\n",
    "            batch = replay_buffer.sample(batch_size)\n",
    "            agent.train(batch)\n",
    "\n",
    "    episode_rewards.append(total_reward)\n",
    "\n",
    "    if episode % target_update_freq == 0:\n",
    "        agent.update_target_network()\n",
    "\n",
    "    if (episode + 1) % 50 == 0:\n",
    "        print(f'Episode {episode + 1}/{num_episodes}, Total Reward: {total_reward}')\n",
    "\n",
    "print(\"Training finished.\")"
   ],
   "outputs": [
    {
     "name": "stderr",
     "output_type": "stream",
     "text": [
      "C:\\Users\\casti\\AppData\\Local\\Temp\\ipykernel_23316\\688519607.py:43: UserWarning: Creating a tensor from a list of numpy.ndarrays is extremely slow. Please consider converting the list to a single numpy.ndarray with numpy.array() before converting to a tensor. (Triggered internally at C:\\actions-runner\\_work\\pytorch\\pytorch\\pytorch\\torch\\csrc\\utils\\tensor_new.cpp:256.)\n",
      "  states_tensor = torch.FloatTensor(states).to(self.device)\n"
     ]
    },
    {
     "name": "stdout",
     "output_type": "stream",
     "text": [
      "Episode 50/500, Total Reward: 19.0\n",
      "Episode 100/500, Total Reward: 46.0\n",
      "Episode 150/500, Total Reward: 305.0\n",
      "Episode 200/500, Total Reward: 213.0\n",
      "Episode 250/500, Total Reward: 142.0\n",
      "Episode 300/500, Total Reward: 281.0\n",
      "Episode 350/500, Total Reward: 231.0\n",
      "Episode 400/500, Total Reward: 181.0\n",
      "Episode 450/500, Total Reward: 173.0\n",
      "Episode 500/500, Total Reward: 177.0\n",
      "Training finished.\n"
     ]
    }
   ],
   "execution_count": 28
  },
  {
   "cell_type": "code",
   "id": "a54d846b262398ce",
   "metadata": {
    "ExecuteTime": {
     "end_time": "2025-09-29T00:21:26.441082Z",
     "start_time": "2025-09-29T00:21:24.668822Z"
    }
   },
   "source": [
    "import matplotlib.pyplot as plt\n",
    "\n",
    "fig = plt.figure(figsize=(10, 6))\n",
    "ax = fig.add_subplot(111)\n",
    "\n",
    "window_size = 50\n",
    "rolling_avg = [np.mean(episode_rewards[max(0, i-window_size+1):i+1]) for i in range(len(episode_rewards))]\n",
    "\n",
    "ax.plot(range(1, len(episode_rewards) + 1), rolling_avg)\n",
    "ax.set_xlabel('Episode')\n",
    "ax.set_ylabel('Average Reward')\n",
    "ax.set_title('DQN Training Progress (CartPole-v1)')\n",
    "ax.grid(True)\n",
    "plt.show()"
   ],
   "outputs": [
    {
     "data": {
      "text/plain": [
       "<Figure size 1000x600 with 1 Axes>"
      ],
      "image/png": "[encoded data removed]"
     },
     "metadata": {},
     "output_type": "display_data"
    }
   ],
   "execution_count": 29
  },
  {
   "cell_type": "code",
   "id": "fde1d60b90f2100a",
   "metadata": {
    "ExecuteTime": {
     "end_time": "2025-09-29T00:21:26.454305Z",
     "start_time": "2025-09-29T00:21:26.449555Z"
    }
   },
   "source": [
    "MODEL_PATH = 'model/dqn_cartpole.pth'"
   ],
   "outputs": [],
   "execution_count": 30
  },
  {
   "cell_type": "code",
   "id": "1360d43a8ec80a38",
   "metadata": {
    "ExecuteTime": {
     "end_time": "2025-09-29T00:21:26.528905Z",
     "start_time": "2025-09-29T00:21:26.517201Z"
    }
   },
   "source": [
    "torch.save(agent.q_network.state_dict(), MODEL_PATH)\n",
    "print(f\"Model saved to {MODEL_PATH}\")"
   ],
   "outputs": [
    {
     "name": "stdout",
     "output_type": "stream",
     "text": [
      "Model saved to model/dqn_cartpole.pth\n"
     ]
    }
   ],
   "execution_count": 31
  },
  {
   "cell_type": "code",
   "id": "ec90b94c-15e0-46ce-9de5-3ba6a304108a",
   "metadata": {
    "ExecuteTime": {
     "end_time": "2025-09-29T00:21:26.620284Z",
     "start_time": "2025-09-29T00:21:26.535264Z"
    }
   },
   "source": [
    "# Evaluate the trained agent without exploration\n",
    "print(\"\\nEvaluating trained agent...\")\n",
    "\n",
    "state, info = env.reset()\n",
    "total_reward = 0\n",
    "done = False\n",
    "\n",
    "# Temporarily set epsilon to 0 for evaluation\n",
    "original_epsilon_start = agent.epsilon_start\n",
    "original_epsilon_end = agent.epsilon_end\n",
    "agent.epsilon_start = 0\n",
    "agent.epsilon_end = 0\n",
    "\n",
    "while not done:\n",
    "    action = agent.select_action(state) # select_action will now always choose the greedy action\n",
    "    next_state, reward, terminated, truncated, info = env.step(action)\n",
    "    done = terminated or truncated\n",
    "\n",
    "    state = next_state\n",
    "    total_reward += reward\n",
    "\n",
    "# Restore original epsilon values\n",
    "agent.epsilon_start = original_epsilon_start\n",
    "agent.epsilon_end = original_epsilon_end\n",
    "\n",
    "print(f\"Evaluation finished. Total Reward: {total_reward}\")"
   ],
   "outputs": [
    {
     "name": "stdout",
     "output_type": "stream",
     "text": [
      "\n",
      "Evaluating trained agent...\n",
      "Evaluation finished. Total Reward: 259.0\n"
     ]
    }
   ],
   "execution_count": 32
  },
  {
   "metadata": {
    "ExecuteTime": {
     "end_time": "2025-09-29T00:21:26.679635Z",
     "start_time": "2025-09-29T00:21:26.671895Z"
    }
   },
   "cell_type": "code",
   "source": [
    "# import os\n",
    "# import time\n",
    "# import torch\n",
    "# import gymnasium as gym\n",
    "#\n",
    "# # Use existing MODEL_PATH if defined, otherwise default\n",
    "# device = 'cuda' if torch.cuda.is_available() else 'cpu'\n",
    "#\n",
    "# if not os.path.exists(MODEL_PATH):\n",
    "#     raise FileNotFoundError(f'Model file not found at {MODEL_PATH}')\n",
    "#\n",
    "# # Recreate agent for inference and load weights\n",
    "# inference_agent = DQNAgent(env.observation_space, env.action_space, device=device)\n",
    "# state_dict = torch.load(MODEL_PATH, map_location=device)\n",
    "# inference_agent.q_network.load_state_dict(state_dict)\n",
    "# inference_agent.target_network.load_state_dict(inference_agent.q_network.state_dict())\n",
    "# inference_agent.q_network.eval()\n",
    "# inference_agent.target_network.eval()\n",
    "#\n",
    "# # Create a separate env with rendering enabled\n",
    "# render_env = gym.make('CartPole-v1', render_mode='human')\n",
    "#\n",
    "# # Disable exploration\n",
    "# orig_eps_start, orig_eps_end = inference_agent.epsilon_start, inference_agent.epsilon_end\n",
    "# inference_agent.epsilon_start, inference_agent.epsilon_end = 0.0, 0.0\n",
    "#\n",
    "# try:\n",
    "#     for run in range(1, 6):\n",
    "#         state, info = render_env.reset(seed=SEED + run if 'SEED' in globals() else None)\n",
    "#         done = False\n",
    "#         total_reward = 0.0\n",
    "#\n",
    "#         while not done:\n",
    "#             action = inference_agent.select_action(state)\n",
    "#             next_state, reward, terminated, truncated, info = render_env.step(action)\n",
    "#             done = terminated or truncated\n",
    "#             state = next_state\n",
    "#             total_reward += reward\n",
    "#\n",
    "#             render_env.render()\n",
    "#             time.sleep(0.01)\n",
    "#\n",
    "#         print(f'Run {run}/5 - Total Reward: {total_reward}')\n",
    "# finally:\n",
    "#     inference_agent.epsilon_start, inference_agent.epsilon_end = orig_eps_start, orig_eps_end\n",
    "#     render_env.close()\n"
   ],
   "id": "3cb355b35d84ecbf",
   "outputs": [],
   "execution_count": 33
  }
 ],
 "metadata": {
  "kernelspec": {
   "display_name": "Python 3 (ipykernel)",
   "language": "python",
   "name": "python3"
  },
  "language_info": {
   "codemirror_mode": {
    "name": "ipython",
    "version": 3
   },
   "file_extension": ".py",
   "mimetype": "text/x-python",
   "name": "python",
   "nbconvert_exporter": "python",
   "pygments_lexer": "ipython3",
   "version": "3.11.13"
  }
 },
 "nbformat": 4,
 "nbformat_minor": 5
}
